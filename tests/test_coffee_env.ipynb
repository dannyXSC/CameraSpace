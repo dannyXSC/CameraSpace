{
 "cells": [
  {
   "cell_type": "code",
   "execution_count": 1,
   "id": "initial_id",
   "metadata": {
    "ExecuteTime": {
     "end_time": "2025-04-26T08:28:40.368163Z",
     "start_time": "2025-04-26T08:28:40.364037Z"
    },
    "collapsed": true
   },
   "outputs": [
    {
     "name": "stderr",
     "output_type": "stream",
     "text": [
      "/home/ubuntu/miniconda3/envs/robodiff/lib/python3.9/site-packages/tqdm/auto.py:22: TqdmWarning: IProgress not found. Please update jupyter and ipywidgets. See https://ipywidgets.readthedocs.io/en/stable/user_install.html\n",
      "  from .autonotebook import tqdm as notebook_tqdm\n"
     ]
    },
    {
     "name": "stdout",
     "output_type": "stream",
     "text": [
      "\u001b[33mROBOMIMIC WARNING(\n",
      "    No private macro file found!\n",
      "    It is recommended to use a private macro file\n",
      "    To setup, run: python /data1/danny/robomimic/robomimic/scripts/setup_macros.py\n",
      ")\u001b[0m\n"
     ]
    },
    {
     "name": "stderr",
     "output_type": "stream",
     "text": [
      "\u001b[1m\u001b[33m[robosuite WARNING] \u001b[0mNo private macro file found! (macros.py:53)\n",
      "\u001b[1m\u001b[33m[robosuite WARNING] \u001b[0mIt is recommended to use a private macro file (macros.py:54)\n",
      "\u001b[1m\u001b[33m[robosuite WARNING] \u001b[0mTo setup, run: python /data1/danny/robosuite/robosuite/scripts/setup_macros.py (macros.py:55)\n"
     ]
    }
   ],
   "source": [
    "\n",
    "import robomimic.utils.env_utils as EnvUtils\n",
    "import robomimic.utils.file_utils as FileUtils\n",
    "import mimicgen.utils.pose_utils as PoseUtils\n",
    "import robosuite.utils.transform_utils as T"
   ]
  },
  {
   "cell_type": "code",
   "execution_count": 2,
   "id": "b9e1f2285f938422",
   "metadata": {
    "ExecuteTime": {
     "end_time": "2025-04-26T08:28:41.776834Z",
     "start_time": "2025-04-26T08:28:41.770633Z"
    }
   },
   "outputs": [],
   "source": [
    "dataset_path = \"/tmp/core_datasets/coffee/demo_src_coffee_task_D0/demo.hdf5\"\n",
    "\n",
    "env_meta = FileUtils.get_env_metadata_from_dataset(dataset_path=dataset_path)\n"
   ]
  },
  {
   "cell_type": "code",
   "execution_count": 3,
   "id": "6ff2a7676255e037",
   "metadata": {
    "ExecuteTime": {
     "end_time": "2025-04-26T08:28:43.107721Z",
     "start_time": "2025-04-26T08:28:43.101989Z"
    }
   },
   "outputs": [
    {
     "data": {
      "text/plain": [
       "{'env_name': 'Coffee_D0',\n",
       " 'env_version': '1.4.1',\n",
       " 'type': 1,\n",
       " 'env_kwargs': {'has_renderer': False,\n",
       "  'has_offscreen_renderer': True,\n",
       "  'ignore_done': True,\n",
       "  'use_object_obs': True,\n",
       "  'use_camera_obs': True,\n",
       "  'control_freq': 20,\n",
       "  'controller_configs': {'type': 'OSC_POSE',\n",
       "   'input_max': 1,\n",
       "   'input_min': -1,\n",
       "   'output_max': [0.05, 0.05, 0.05, 0.5, 0.5, 0.5],\n",
       "   'output_min': [-0.05, -0.05, -0.05, -0.5, -0.5, -0.5],\n",
       "   'kp': 150,\n",
       "   'damping': 1,\n",
       "   'impedance_mode': 'fixed',\n",
       "   'kp_limits': [0, 300],\n",
       "   'damping_limits': [0, 10],\n",
       "   'position_limits': None,\n",
       "   'orientation_limits': None,\n",
       "   'uncouple_pos_ori': True,\n",
       "   'control_delta': True,\n",
       "   'interpolation': None,\n",
       "   'ramp_ratio': 0.2},\n",
       "  'robots': ['Panda'],\n",
       "  'camera_depths': False,\n",
       "  'camera_heights': 84,\n",
       "  'camera_widths': 84,\n",
       "  'render_gpu_device_id': 0,\n",
       "  'reward_shaping': False,\n",
       "  'camera_names': ['agentview', 'robot0_eye_in_hand']}}"
      ]
     },
     "execution_count": 3,
     "metadata": {},
     "output_type": "execute_result"
    }
   ],
   "source": [
    "env_meta"
   ]
  },
  {
   "cell_type": "code",
   "execution_count": 4,
   "id": "c90b141142294711",
   "metadata": {
    "ExecuteTime": {
     "end_time": "2025-04-26T08:28:44.723397Z",
     "start_time": "2025-04-26T08:28:44.650026Z"
    }
   },
   "outputs": [
    {
     "name": "stdout",
     "output_type": "stream",
     "text": [
      "Created environment with name Coffee_D0\n",
      "Action size is 7\n"
     ]
    }
   ],
   "source": [
    "env = EnvUtils.create_env_from_metadata(\n",
    "    env_meta=env_meta, render=False, render_offscreen=False\n",
    ")"
   ]
  }
 ],
 "metadata": {
  "kernelspec": {
   "display_name": "robodiff",
   "language": "python",
   "name": "python3"
  },
  "language_info": {
   "codemirror_mode": {
    "name": "ipython",
    "version": 3
   },
   "file_extension": ".py",
   "mimetype": "text/x-python",
   "name": "python",
   "nbconvert_exporter": "python",
   "pygments_lexer": "ipython3",
   "version": "3.9.18"
  }
 },
 "nbformat": 4,
 "nbformat_minor": 5
}
