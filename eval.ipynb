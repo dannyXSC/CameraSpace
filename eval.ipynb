{
 "cells": [
  {
   "cell_type": "code",
   "execution_count": 2,
   "metadata": {},
   "outputs": [],
   "source": [
    "import sys\n",
    "\n",
    "# use line-buffering for both stdout and stderr\n",
    "sys.stdout = open(sys.stdout.fileno(), mode=\"w\", buffering=1)\n",
    "sys.stderr = open(sys.stderr.fileno(), mode=\"w\", buffering=1)\n",
    "\n",
    "import os\n",
    "import pathlib\n",
    "import click\n",
    "import hydra\n",
    "import torch\n",
    "import dill\n",
    "import wandb\n",
    "import json\n",
    "from diffusion_policy.workspace.base_workspace import BaseWorkspace\n",
    "from omegaconf import OmegaConf\n",
    "from diffusion_policy.env_runner.robomimic_image_runner import RobomimicImageRunner\n",
    "import yaml"
   ]
  },
  {
   "cell_type": "code",
   "execution_count": 5,
   "metadata": {},
   "outputs": [],
   "source": [
    "config_path = r\"/home/ubuntu/danny/diffusion_policy/diffusion_policy/config/task/mug_hybrid_cl.yaml\"\n",
    "output_dir = r\"/home/ubuntu/danny/diffusion_policy/data/test/test\""
   ]
  },
  {
   "cell_type": "code",
   "execution_count": 11,
   "metadata": {},
   "outputs": [],
   "source": [
    "# 使用OmegaConf加载配置文件\n",
    "cfg = OmegaConf.load(config_path)"
   ]
  },
  {
   "cell_type": "code",
   "execution_count": 16,
   "metadata": {},
   "outputs": [
    {
     "data": {
      "text/plain": [
       "['/home/ubuntu/danny/diffusion_policy/data/src/mug_cl/full_demos_50.hdf5', '/home/ubuntu/danny/diffusion_policy/data/src/mug_cl/cl_demos_80.hdf5']"
      ]
     },
     "execution_count": 16,
     "metadata": {},
     "output_type": "execute_result"
    }
   ],
   "source": [
    "cfg.dataset_path"
   ]
  },
  {
   "cell_type": "code",
   "execution_count": 20,
   "metadata": {},
   "outputs": [],
   "source": [
    "horizon=10\n",
    "n_obs_steps=2\n",
    "n_action_steps=8\n",
    "past_action_visible=False\n",
    "# 创建环境运行器\n",
    "env_runner = hydra.utils.instantiate(\n",
    "    cfg.env_runner,\n",
    "    output_dir=output_dir,\n",
    "    dataset_path=cfg.dataset_path[0],  # 使用第一个数据集路径\n",
    "    max_steps=400,\n",
    "    env_name=cfg.task_name,\n",
    "    shape_meta=cfg.shape_meta,\n",
    "    n_obs_steps=n_obs_steps,\n",
    "    n_action_steps=n_action_steps,\n",
    "    past_action=past_action_visible,\n",
    ")"
   ]
  },
  {
   "cell_type": "code",
   "execution_count": 21,
   "metadata": {},
   "outputs": [],
   "source": [
    "def eval_policy(ckpt_path, env_runner,device=\"cuda:0\"):\n",
    "    payload = torch.load(open(ckpt_path, \"rb\"), pickle_module=dill)\n",
    "    cfg = payload[\"cfg\"]\n",
    "    OmegaConf.set_struct(cfg, False)\n",
    "    cls = hydra.utils.get_class(cfg._target_)\n",
    "    workspace = cls(cfg, output_dir=output_dir)\n",
    "    workspace: BaseWorkspace\n",
    "    workspace.load_payload(payload, exclude_keys=None, include_keys=None)\n",
    "    # get policy from workspace\n",
    "    policy = workspace.model\n",
    "    if cfg.training.use_ema:\n",
    "        policy = workspace.ema_model\n",
    "    device = torch.device(device)\n",
    "    policy.eval()\n",
    "    return env_runner.run(policy)"
   ]
  },
  {
   "cell_type": "code",
   "execution_count": 22,
   "metadata": {},
   "outputs": [],
   "source": [
    "runner_log = eval_policy(\"/home/ubuntu/danny/diffusion_policy/data/outputs/2025.06.05/05.42.51_[50]_finetune/checkpoints/epoch=0070-test_mean_score=0.520.ckpt\", env_runner,device=\"cuda:4\")"
   ]
  },
  {
   "cell_type": "code",
   "execution_count": 25,
   "metadata": {},
   "outputs": [
    {
     "data": {
      "text/plain": [
       "{'train/sim_max_reward_0': 0.0,\n",
       " 'train/sim_video_0': <wandb.sdk.data_types.video.Video at 0x7f8d25635ac0>,\n",
       " 'train/sim_max_reward_1': 1.0,\n",
       " 'train/sim_video_1': <wandb.sdk.data_types.video.Video at 0x7f8d25728730>,\n",
       " 'train/sim_max_reward_2': 1.0,\n",
       " 'train/sim_max_reward_3': 1.0,\n",
       " 'train/sim_max_reward_4': 0.0,\n",
       " 'train/sim_max_reward_5': 0.0,\n",
       " 'test/sim_max_reward_100000': 1.0,\n",
       " 'test/sim_video_100000': <wandb.sdk.data_types.video.Video at 0x7f8d25728640>,\n",
       " 'test/sim_max_reward_100001': 0.0,\n",
       " 'test/sim_video_100001': <wandb.sdk.data_types.video.Video at 0x7f8d25728610>,\n",
       " 'test/sim_max_reward_100002': 1.0,\n",
       " 'test/sim_video_100002': <wandb.sdk.data_types.video.Video at 0x7f8d257286a0>,\n",
       " 'test/sim_max_reward_100003': 1.0,\n",
       " 'test/sim_video_100003': <wandb.sdk.data_types.video.Video at 0x7f8d25728670>,\n",
       " 'test/sim_max_reward_100004': 0.0,\n",
       " 'test/sim_max_reward_100005': 1.0,\n",
       " 'test/sim_max_reward_100006': 1.0,\n",
       " 'test/sim_max_reward_100007': 1.0,\n",
       " 'test/sim_max_reward_100008': 1.0,\n",
       " 'test/sim_max_reward_100009': 0.0,\n",
       " 'test/sim_max_reward_100010': 0.0,\n",
       " 'test/sim_max_reward_100011': 0.0,\n",
       " 'test/sim_max_reward_100012': 1.0,\n",
       " 'test/sim_max_reward_100013': 0.0,\n",
       " 'test/sim_max_reward_100014': 0.0,\n",
       " 'test/sim_max_reward_100015': 1.0,\n",
       " 'test/sim_max_reward_100016': 0.0,\n",
       " 'test/sim_max_reward_100017': 1.0,\n",
       " 'test/sim_max_reward_100018': 1.0,\n",
       " 'test/sim_max_reward_100019': 0.0,\n",
       " 'test/sim_max_reward_100020': 1.0,\n",
       " 'test/sim_max_reward_100021': 0.0,\n",
       " 'test/sim_max_reward_100022': 1.0,\n",
       " 'test/sim_max_reward_100023': 1.0,\n",
       " 'test/sim_max_reward_100024': 1.0,\n",
       " 'test/sim_max_reward_100025': 1.0,\n",
       " 'test/sim_max_reward_100026': 0.0,\n",
       " 'test/sim_max_reward_100027': 1.0,\n",
       " 'test/sim_max_reward_100028': 1.0,\n",
       " 'test/sim_max_reward_100029': 1.0,\n",
       " 'test/sim_max_reward_100030': 0.0,\n",
       " 'test/sim_max_reward_100031': 1.0,\n",
       " 'test/sim_max_reward_100032': 1.0,\n",
       " 'test/sim_max_reward_100033': 1.0,\n",
       " 'test/sim_max_reward_100034': 0.0,\n",
       " 'test/sim_max_reward_100035': 0.0,\n",
       " 'test/sim_max_reward_100036': 1.0,\n",
       " 'test/sim_max_reward_100037': 1.0,\n",
       " 'test/sim_max_reward_100038': 0.0,\n",
       " 'test/sim_max_reward_100039': 1.0,\n",
       " 'test/sim_max_reward_100040': 1.0,\n",
       " 'test/sim_max_reward_100041': 1.0,\n",
       " 'test/sim_max_reward_100042': 1.0,\n",
       " 'test/sim_max_reward_100043': 1.0,\n",
       " 'test/sim_max_reward_100044': 1.0,\n",
       " 'test/sim_max_reward_100045': 1.0,\n",
       " 'test/sim_max_reward_100046': 1.0,\n",
       " 'test/sim_max_reward_100047': 1.0,\n",
       " 'test/sim_max_reward_100048': 1.0,\n",
       " 'test/sim_max_reward_100049': 1.0,\n",
       " 'train/mean_score': 0.5,\n",
       " 'test/mean_score': 0.7}"
      ]
     },
     "execution_count": 25,
     "metadata": {},
     "output_type": "execute_result"
    }
   ],
   "source": [
    "runner_log"
   ]
  },
  {
   "cell_type": "code",
   "execution_count": null,
   "metadata": {},
   "outputs": [],
   "source": [
    "cur_output_dir = \"./test\"\n",
    "# save runner_log to json\n",
    "json_log = dict()\n",
    "for key, value in runner_log.items():\n",
    "    if isinstance(value, wandb.sdk.data_types.video.Video):\n",
    "        json_log[key] = value._path\n",
    "    else:\n",
    "        json_log[key] = value\n",
    "out_path = os.path.join(cur_output_dir, \"eval_log.json\")\n",
    "json.dump(json_log, open(out_path, \"w\"), indent=2, sort_keys=True)\n"
   ]
  }
 ],
 "metadata": {
  "kernelspec": {
   "display_name": "cs",
   "language": "python",
   "name": "python3"
  },
  "language_info": {
   "codemirror_mode": {
    "name": "ipython",
    "version": 3
   },
   "file_extension": ".py",
   "mimetype": "text/x-python",
   "name": "python",
   "nbconvert_exporter": "python",
   "pygments_lexer": "ipython3",
   "version": "3.9.18"
  }
 },
 "nbformat": 4,
 "nbformat_minor": 2
}
